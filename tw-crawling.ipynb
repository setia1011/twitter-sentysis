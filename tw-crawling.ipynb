{
 "cells": [
  {
   "cell_type": "code",
   "execution_count": 1,
   "id": "198be0aa-1890-48ee-addc-c4edcd4f00de",
   "metadata": {},
   "outputs": [],
   "source": [
    "import nest_asyncio\n",
    "nest_asyncio.apply()\n",
    "\n",
    "import twint\n",
    "import pandas as pd"
   ]
  },
  {
   "cell_type": "code",
   "execution_count": 2,
   "id": "6488f548-d73b-4a58-8049-51fa61c74543",
   "metadata": {},
   "outputs": [],
   "source": [
    "c = twint.Config()\n",
    "c.Search = \"covid\"\n",
    "c.Limit = 200\n",
    "c.Since = \"2022-01-01\"\n",
    "c.Until = \"2022-02-13\"\n",
    "c.Lang = \"en\"\n",
    "c.Hide_output = True\n",
    "c.Debug = True\n",
    "c.Pandas = True"
   ]
  },
  {
   "cell_type": "code",
   "execution_count": 4,
   "id": "be6bb5c3-6756-436d-9bc2-9b200bea5b30",
   "metadata": {},
   "outputs": [
    {
     "name": "stdout",
     "output_type": "stream",
     "text": [
      "Start crawling\n",
      "Finished\n",
      "-------\n",
      "CPU times: total: 438 ms\n",
      "Wall time: 7.49 s\n"
     ]
    }
   ],
   "source": [
    "%%time\n",
    "try:\n",
    "    print(\"Start crawling\")\n",
    "    \n",
    "    # convert output to dataframe format\n",
    "    def twint_to_dataframe(columns):\n",
    "        return twint.output.panda.Tweets_df[columns]\n",
    "    \n",
    "    # Start crawling\n",
    "    twint.run.Search(c)\n",
    "    \n",
    "    # save specific data after crawling\n",
    "    data = twint_to_dataframe(['date', 'username', 'tweet'])   \n",
    "except Exception as e:\n",
    "    print(e)\n",
    "    \n",
    "print(\"Finished\")\n",
    "print(\"-------\")"
   ]
  },
  {
   "cell_type": "code",
   "execution_count": 5,
   "id": "46d1ed58-c120-4388-8d7e-c35b8dc00a9a",
   "metadata": {},
   "outputs": [
    {
     "data": {
      "text/html": [
       "<div>\n",
       "<style scoped>\n",
       "    .dataframe tbody tr th:only-of-type {\n",
       "        vertical-align: middle;\n",
       "    }\n",
       "\n",
       "    .dataframe tbody tr th {\n",
       "        vertical-align: top;\n",
       "    }\n",
       "\n",
       "    .dataframe thead th {\n",
       "        text-align: right;\n",
       "    }\n",
       "</style>\n",
       "<table border=\"1\" class=\"dataframe\">\n",
       "  <thead>\n",
       "    <tr style=\"text-align: right;\">\n",
       "      <th></th>\n",
       "      <th>date</th>\n",
       "      <th>username</th>\n",
       "      <th>tweet</th>\n",
       "    </tr>\n",
       "  </thead>\n",
       "  <tbody>\n",
       "    <tr>\n",
       "      <th>0</th>\n",
       "      <td>2022-02-13 00:38:03</td>\n",
       "      <td>mazzya6</td>\n",
       "      <td>@Heathdangercat @ConsumerSOS I think it's two-...</td>\n",
       "    </tr>\n",
       "    <tr>\n",
       "      <th>1</th>\n",
       "      <td>2022-02-13 00:38:02</td>\n",
       "      <td>Leanne00888573</td>\n",
       "      <td>@NickSchiavone @MiskiewiczWill I’m sick of hea...</td>\n",
       "    </tr>\n",
       "    <tr>\n",
       "      <th>2</th>\n",
       "      <td>2022-02-13 00:38:02</td>\n",
       "      <td>Georgie_D_101</td>\n",
       "      <td>@Uglyduckping @andymeiklejohn @FordDawe @axel1...</td>\n",
       "    </tr>\n",
       "    <tr>\n",
       "      <th>3</th>\n",
       "      <td>2022-02-13 00:38:02</td>\n",
       "      <td>originalscout11</td>\n",
       "      <td>@RodKahx Denmark's doing it all wrong, they're...</td>\n",
       "    </tr>\n",
       "    <tr>\n",
       "      <th>4</th>\n",
       "      <td>2022-02-13 00:38:02</td>\n",
       "      <td>leadershipindex</td>\n",
       "      <td>How COVID-19 Has Changed The Way We Work  http...</td>\n",
       "    </tr>\n",
       "    <tr>\n",
       "      <th>...</th>\n",
       "      <td>...</td>\n",
       "      <td>...</td>\n",
       "      <td>...</td>\n",
       "    </tr>\n",
       "    <tr>\n",
       "      <th>195</th>\n",
       "      <td>2022-02-13 00:37:07</td>\n",
       "      <td>means_over</td>\n",
       "      <td>@JReinerMD Does it have anything to do with th...</td>\n",
       "    </tr>\n",
       "    <tr>\n",
       "      <th>196</th>\n",
       "      <td>2022-02-13 00:37:07</td>\n",
       "      <td>samanth77470710</td>\n",
       "      <td>@B52Malmet Had Covid in January 2022. Being bo...</td>\n",
       "    </tr>\n",
       "    <tr>\n",
       "      <th>197</th>\n",
       "      <td>2022-02-13 00:37:06</td>\n",
       "      <td>vickersty</td>\n",
       "      <td>@drmikehart Yes. Vitamin D is...a vitamin. It'...</td>\n",
       "    </tr>\n",
       "    <tr>\n",
       "      <th>198</th>\n",
       "      <td>2022-02-13 00:37:06</td>\n",
       "      <td>Libero_official</td>\n",
       "      <td>Bollettino #Covid 12 febbraio: 62.231 nuovi co...</td>\n",
       "    </tr>\n",
       "    <tr>\n",
       "      <th>199</th>\n",
       "      <td>2022-02-13 00:37:06</td>\n",
       "      <td>jennyyyyc</td>\n",
       "      <td>I think I had COVID 4 years ago 🤣. I really wa...</td>\n",
       "    </tr>\n",
       "  </tbody>\n",
       "</table>\n",
       "<p>200 rows × 3 columns</p>\n",
       "</div>"
      ],
      "text/plain": [
       "                    date         username  \\\n",
       "0    2022-02-13 00:38:03          mazzya6   \n",
       "1    2022-02-13 00:38:02   Leanne00888573   \n",
       "2    2022-02-13 00:38:02    Georgie_D_101   \n",
       "3    2022-02-13 00:38:02  originalscout11   \n",
       "4    2022-02-13 00:38:02  leadershipindex   \n",
       "..                   ...              ...   \n",
       "195  2022-02-13 00:37:07       means_over   \n",
       "196  2022-02-13 00:37:07  samanth77470710   \n",
       "197  2022-02-13 00:37:06        vickersty   \n",
       "198  2022-02-13 00:37:06  Libero_official   \n",
       "199  2022-02-13 00:37:06        jennyyyyc   \n",
       "\n",
       "                                                 tweet  \n",
       "0    @Heathdangercat @ConsumerSOS I think it's two-...  \n",
       "1    @NickSchiavone @MiskiewiczWill I’m sick of hea...  \n",
       "2    @Uglyduckping @andymeiklejohn @FordDawe @axel1...  \n",
       "3    @RodKahx Denmark's doing it all wrong, they're...  \n",
       "4    How COVID-19 Has Changed The Way We Work  http...  \n",
       "..                                                 ...  \n",
       "195  @JReinerMD Does it have anything to do with th...  \n",
       "196  @B52Malmet Had Covid in January 2022. Being bo...  \n",
       "197  @drmikehart Yes. Vitamin D is...a vitamin. It'...  \n",
       "198  Bollettino #Covid 12 febbraio: 62.231 nuovi co...  \n",
       "199  I think I had COVID 4 years ago 🤣. I really wa...  \n",
       "\n",
       "[200 rows x 3 columns]"
      ]
     },
     "execution_count": 5,
     "metadata": {},
     "output_type": "execute_result"
    }
   ],
   "source": [
    "data"
   ]
  },
  {
   "cell_type": "code",
   "execution_count": 6,
   "id": "9eb9e9be-c56d-4204-b086-5c213a53dfb8",
   "metadata": {},
   "outputs": [],
   "source": [
    "data.to_csv('raw_tweets.csv', index=False)"
   ]
  }
 ],
 "metadata": {
  "kernelspec": {
   "display_name": "senti-tweets-venv",
   "language": "python",
   "name": "senti-tweets-venv"
  },
  "language_info": {
   "codemirror_mode": {
    "name": "ipython",
    "version": 3
   },
   "file_extension": ".py",
   "mimetype": "text/x-python",
   "name": "python",
   "nbconvert_exporter": "python",
   "pygments_lexer": "ipython3",
   "version": "3.9.9"
  }
 },
 "nbformat": 4,
 "nbformat_minor": 5
}
