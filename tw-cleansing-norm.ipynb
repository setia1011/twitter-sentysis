{
 "cells": [
  {
   "cell_type": "code",
   "execution_count": 1,
   "id": "31291c01-6824-496b-a51f-212c2ded6947",
   "metadata": {},
   "outputs": [],
   "source": [
    "import pandas as pd\n",
    "import emoji\n",
    "import contractions\n",
    "import re"
   ]
  },
  {
   "cell_type": "code",
   "execution_count": 5,
   "id": "3c751601-5216-4a4d-b915-c42d80fe797e",
   "metadata": {},
   "outputs": [],
   "source": [
    "def cleansing(tweet):\n",
    "    # Replace RT tag\n",
    "    t1 = re.sub('RT\\s', '', tweet)\n",
    "    # Replace @_username\n",
    "    t2 = re.sub('\\B@\\w+', \"\", t1)\n",
    "    # Replace emojis with text\n",
    "    t3 = emoji.demojize(t2)\n",
    "    # Replace URL (http:// or https://)\n",
    "    t4 = re.sub('(http|https):\\/\\/\\S+', '', t3)\n",
    "    # Replace #_something_\n",
    "    t5 = re.sub('#+', '', t4)\n",
    "    # Lower case each letter\n",
    "    t6 = t5.lower()\n",
    "    # Replace word repetition with a single occurance ('ooooooooo' becomse 'oo')\n",
    "    t7 = re.sub(r'(.)\\1+', r'\\1\\1', t6)\n",
    "    # Replace punctuation repetition with a single occurance ('!!!!!!!!' becomes '!')\n",
    "    t8 = re.sub(r'[\\?\\.\\!]+(?=[\\?.\\!])', '', t7)\n",
    "    # Alphabets only, exlude numbers and special characters\n",
    "    t9 = re.sub(r'[^a-zA-Z]', ' ', t8)\n",
    "    # Replace contractions with their extended forms\n",
    "    t10 = contractions.fix(t9)\n",
    "    return t10"
   ]
  },
  {
   "cell_type": "code",
   "execution_count": 6,
   "id": "bf32a46f-d052-4b8b-b9de-e4b70d4e5b4e",
   "metadata": {},
   "outputs": [
    {
     "data": {
      "text/html": [
       "<div>\n",
       "<style scoped>\n",
       "    .dataframe tbody tr th:only-of-type {\n",
       "        vertical-align: middle;\n",
       "    }\n",
       "\n",
       "    .dataframe tbody tr th {\n",
       "        vertical-align: top;\n",
       "    }\n",
       "\n",
       "    .dataframe thead th {\n",
       "        text-align: right;\n",
       "    }\n",
       "</style>\n",
       "<table border=\"1\" class=\"dataframe\">\n",
       "  <thead>\n",
       "    <tr style=\"text-align: right;\">\n",
       "      <th></th>\n",
       "      <th>date</th>\n",
       "      <th>username</th>\n",
       "      <th>tweet</th>\n",
       "    </tr>\n",
       "  </thead>\n",
       "  <tbody>\n",
       "    <tr>\n",
       "      <th>0</th>\n",
       "      <td>2022-02-13 00:38:03</td>\n",
       "      <td>mazzya6</td>\n",
       "      <td>@Heathdangercat @ConsumerSOS I think it's two-...</td>\n",
       "    </tr>\n",
       "    <tr>\n",
       "      <th>1</th>\n",
       "      <td>2022-02-13 00:38:02</td>\n",
       "      <td>Leanne00888573</td>\n",
       "      <td>@NickSchiavone @MiskiewiczWill I’m sick of hea...</td>\n",
       "    </tr>\n",
       "    <tr>\n",
       "      <th>2</th>\n",
       "      <td>2022-02-13 00:38:02</td>\n",
       "      <td>Georgie_D_101</td>\n",
       "      <td>@Uglyduckping @andymeiklejohn @FordDawe @axel1...</td>\n",
       "    </tr>\n",
       "    <tr>\n",
       "      <th>3</th>\n",
       "      <td>2022-02-13 00:38:02</td>\n",
       "      <td>originalscout11</td>\n",
       "      <td>@RodKahx Denmark's doing it all wrong, they're...</td>\n",
       "    </tr>\n",
       "    <tr>\n",
       "      <th>4</th>\n",
       "      <td>2022-02-13 00:38:02</td>\n",
       "      <td>leadershipindex</td>\n",
       "      <td>How COVID-19 Has Changed The Way We Work  http...</td>\n",
       "    </tr>\n",
       "  </tbody>\n",
       "</table>\n",
       "</div>"
      ],
      "text/plain": [
       "                  date         username  \\\n",
       "0  2022-02-13 00:38:03          mazzya6   \n",
       "1  2022-02-13 00:38:02   Leanne00888573   \n",
       "2  2022-02-13 00:38:02    Georgie_D_101   \n",
       "3  2022-02-13 00:38:02  originalscout11   \n",
       "4  2022-02-13 00:38:02  leadershipindex   \n",
       "\n",
       "                                               tweet  \n",
       "0  @Heathdangercat @ConsumerSOS I think it's two-...  \n",
       "1  @NickSchiavone @MiskiewiczWill I’m sick of hea...  \n",
       "2  @Uglyduckping @andymeiklejohn @FordDawe @axel1...  \n",
       "3  @RodKahx Denmark's doing it all wrong, they're...  \n",
       "4  How COVID-19 Has Changed The Way We Work  http...  "
      ]
     },
     "execution_count": 6,
     "metadata": {},
     "output_type": "execute_result"
    }
   ],
   "source": [
    "df = pd.read_csv('raw_tweets.csv', usecols=['date', 'username', 'tweet'])\n",
    "df.head()"
   ]
  },
  {
   "cell_type": "code",
   "execution_count": 7,
   "id": "f196e1b4-eca9-4582-afa0-8f76e2079ced",
   "metadata": {},
   "outputs": [
    {
     "data": {
      "text/html": [
       "<div>\n",
       "<style scoped>\n",
       "    .dataframe tbody tr th:only-of-type {\n",
       "        vertical-align: middle;\n",
       "    }\n",
       "\n",
       "    .dataframe tbody tr th {\n",
       "        vertical-align: top;\n",
       "    }\n",
       "\n",
       "    .dataframe thead th {\n",
       "        text-align: right;\n",
       "    }\n",
       "</style>\n",
       "<table border=\"1\" class=\"dataframe\">\n",
       "  <thead>\n",
       "    <tr style=\"text-align: right;\">\n",
       "      <th></th>\n",
       "      <th>date</th>\n",
       "      <th>username</th>\n",
       "      <th>tweet</th>\n",
       "    </tr>\n",
       "  </thead>\n",
       "  <tbody>\n",
       "    <tr>\n",
       "      <th>0</th>\n",
       "      <td>2022-02-13 00:38:03</td>\n",
       "      <td>mazzya6</td>\n",
       "      <td>i think it s two fold  although i m sure the...</td>\n",
       "    </tr>\n",
       "    <tr>\n",
       "      <th>1</th>\n",
       "      <td>2022-02-13 00:38:02</td>\n",
       "      <td>Leanne00888573</td>\n",
       "      <td>i m sick of hearing this  a family member of...</td>\n",
       "    </tr>\n",
       "    <tr>\n",
       "      <th>2</th>\n",
       "      <td>2022-02-13 00:38:02</td>\n",
       "      <td>Georgie_D_101</td>\n",
       "      <td>also you can t determine unless you looked a...</td>\n",
       "    </tr>\n",
       "    <tr>\n",
       "      <th>3</th>\n",
       "      <td>2022-02-13 00:38:02</td>\n",
       "      <td>originalscout11</td>\n",
       "      <td>denmark s doing it all wrong  they re countin...</td>\n",
       "    </tr>\n",
       "    <tr>\n",
       "      <th>4</th>\n",
       "      <td>2022-02-13 00:38:02</td>\n",
       "      <td>leadershipindex</td>\n",
       "      <td>how covid    has changed the way we work  via</td>\n",
       "    </tr>\n",
       "  </tbody>\n",
       "</table>\n",
       "</div>"
      ],
      "text/plain": [
       "                  date         username  \\\n",
       "0  2022-02-13 00:38:03          mazzya6   \n",
       "1  2022-02-13 00:38:02   Leanne00888573   \n",
       "2  2022-02-13 00:38:02    Georgie_D_101   \n",
       "3  2022-02-13 00:38:02  originalscout11   \n",
       "4  2022-02-13 00:38:02  leadershipindex   \n",
       "\n",
       "                                               tweet  \n",
       "0    i think it s two fold  although i m sure the...  \n",
       "1    i m sick of hearing this  a family member of...  \n",
       "2    also you can t determine unless you looked a...  \n",
       "3   denmark s doing it all wrong  they re countin...  \n",
       "4     how covid    has changed the way we work  via   "
      ]
     },
     "execution_count": 7,
     "metadata": {},
     "output_type": "execute_result"
    }
   ],
   "source": [
    "for i, r in df.iterrows():\n",
    "    y = cleansing(r['tweet'])\n",
    "    df.loc[i, 'tweet'] = y\n",
    "\n",
    "df.head()"
   ]
  },
  {
   "cell_type": "code",
   "execution_count": 8,
   "id": "5a98a70d-20a9-496e-95fe-c1725026d536",
   "metadata": {},
   "outputs": [],
   "source": [
    "df.to_csv('cleaned_tweets.csv', index=False)"
   ]
  }
 ],
 "metadata": {
  "kernelspec": {
   "display_name": "senti-tweets-venv",
   "language": "python",
   "name": "senti-tweets-venv"
  },
  "language_info": {
   "codemirror_mode": {
    "name": "ipython",
    "version": 3
   },
   "file_extension": ".py",
   "mimetype": "text/x-python",
   "name": "python",
   "nbconvert_exporter": "python",
   "pygments_lexer": "ipython3",
   "version": "3.9.9"
  }
 },
 "nbformat": 4,
 "nbformat_minor": 5
}
